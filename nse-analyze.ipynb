{
 "cells": [
  {
   "cell_type": "code",
   "execution_count": 1,
   "id": "a06d54dc-9d00-44ec-87ae-80ea43a09084",
   "metadata": {
    "scrolled": true
   },
   "outputs": [],
   "source": [
    "import requests\n",
    "import pandas as pd\n",
    "import numpy as np\n",
    "import pprint\n",
    "import urllib"
   ]
  },
  {
   "cell_type": "code",
   "execution_count": null,
   "id": "cad08eec-070d-4c34-9fc5-02c25ceb66d5",
   "metadata": {},
   "outputs": [],
   "source": [
    "a=\"NIFTY AUTO\"\n",
    "print(urllib.parse.quote(a))\n",
    "\n",
    "def get_nse_response(baseurl,url):\n",
    "\n",
    "    headers = {\n",
    "        \"user-agent\": \"Chrome/80.0.3987.149 Safari/537.36\",\n",
    "        \"accept-language\": \"en,gu;q=0.9,hi;q=0.8\",\n",
    "        \"accept-encoding\": \"gzip, deflate, br\",\n",
    "    }\n",
    "    session = requests.Session()\n",
    "    request = session.get(baseurl, headers=headers, timeout=5)\n",
    "    cookies = dict(request.cookies)\n",
    "    response = session.get(url, headers=headers, timeout=5, cookies=cookies)\n",
    "    return response\n",
    "baseurl = 'https://www.nseindia.com/'\n",
    "option_chain_url = \"https://www.nseindia.com/api/option-chain-{}?symbol={}\"\n",
    "sector_url= \"https://www1.nseindia.com/live_market/dynaContent/live_watch/stock_watch/{}StockWatch.json\"\n",
    "url = option_chain_url.format('equities', 'CUB')\n",
    "data = get_nse_response(baseurl, url)['records']\n",
    "# data = get_nse_response(baseurl, sector_url.format(\"NIFTY AUTO\"))\n"
   ]
  },
  {
   "cell_type": "code",
   "execution_count": 3,
   "id": "6178edd5-8e3d-4cce-afbd-93230adc29cc",
   "metadata": {},
   "outputs": [],
   "source": [
    "expiry_data = {}\n",
    "df_ce_pe = pd.DataFrame()\n",
    "buillish = [\"Short Cover\", \"Long Buildup\"]\n",
    "bearish = [\"Long Unwind\", \"Short Buildup\"]\n",
    "columns = [\n",
    "    \"Call OI\",\n",
    "    \"Call Change in OI\",\n",
    "    \"Call Volume\",\n",
    "    \"Call LTP\",\n",
    "    \"Call Price Change\",\n",
    "    \"Strike Price\",\n",
    "    \"Put Price Change\",\n",
    "    \"Put LTP\",\n",
    "    \"Put Volume\",\n",
    "    \"Put Change in OI\",\n",
    "    \"Put OI\",\n",
    "]"
   ]
  },
  {
   "cell_type": "code",
   "execution_count": 4,
   "id": "c6800342-ad6c-4522-8b4e-568baf68d0cb",
   "metadata": {},
   "outputs": [],
   "source": [
    "def oi_action_ce(row):\n",
    "    if row[\"Call Price Change\"] > 0 and row[\"Call Change in OI\"] > 0:\n",
    "        return \"Long Buildup\"\n",
    "    elif row[\"Call Price Change\"] > 0 and row[\"Call Change in OI\"] < 0:\n",
    "        return \"Short Cover\"\n",
    "    elif row[\"Call Price Change\"] < 0 and row[\"Call Change in OI\"] > 0:\n",
    "        return \"Short Buildup\"\n",
    "    elif row[\"Call Price Change\"] < 0 and row[\"Call Change in OI\"] < 0:\n",
    "        return \"Long Unwind\"\n",
    "\n",
    "\n",
    "def oi_action_pe(row):\n",
    "    if row[\"Put Price Change\"] > 0 and row[\"Put Change in OI\"] > 0:\n",
    "        return \"Long Buildup\"\n",
    "    elif row[\"Put Price Change\"] > 0 and row[\"Put Change in OI\"] < 0:\n",
    "        return \"Short Cover\"\n",
    "    elif row[\"Put Price Change\"] < 0 and row[\"Put Change in OI\"] > 0:\n",
    "        return \"Short Buildup\"\n",
    "    elif row[\"Put Price Change\"] < 0 and row[\"Put Change in OI\"] < 0:\n",
    "        return \"Long Unwind\""
   ]
  },
  {
   "cell_type": "code",
   "execution_count": 11,
   "id": "818cfde5-9086-47ba-9d68-bcc0cd87c6c4",
   "metadata": {
    "scrolled": true
   },
   "outputs": [
    {
     "ename": "TypeError",
     "evalue": "'Response' object is not subscriptable",
     "output_type": "error",
     "traceback": [
      "\u001b[0;31m---------------------------------------------------------------------------\u001b[0m",
      "\u001b[0;31mTypeError\u001b[0m                                 Traceback (most recent call last)",
      "Cell \u001b[0;32mIn[11], line 1\u001b[0m\n\u001b[0;32m----> 1\u001b[0m expiry_dates \u001b[38;5;241m=\u001b[39m \u001b[43mdata\u001b[49m\u001b[43m[\u001b[49m\u001b[38;5;124;43m\"\u001b[39;49m\u001b[38;5;124;43mexpiryDates\u001b[39;49m\u001b[38;5;124;43m\"\u001b[39;49m\u001b[43m]\u001b[49m\n\u001b[1;32m      2\u001b[0m \u001b[38;5;28mprint\u001b[39m(expiry_dates)\n\u001b[1;32m      3\u001b[0m expiry \u001b[38;5;241m=\u001b[39m expiry_dates[\u001b[38;5;241m0\u001b[39m]\n",
      "\u001b[0;31mTypeError\u001b[0m: 'Response' object is not subscriptable"
     ]
    }
   ],
   "source": [
    "expiry_dates = data[\"expiryDates\"]\n",
    "expiry = expiry_dates[0]\n",
    "for expiry_dt in expiry_dates:\n",
    "    expiry_data[expiry_dt] = [\n",
    "        d for d in data[\"data\"] if expiry_dt in d[\"expiryDate\"]\n",
    "    ]\n",
    "ce = [expd.get(\"CE\") for expd in expiry_data[expiry] if \"CE\" in expd.keys()]\n",
    "pe = [expd.get(\"PE\") for expd in expiry_data[expiry] if \"PE\" in expd.keys()]\n",
    "# print(pe)\n",
    "df_ce = pd.DataFrame(ce)[\n",
    "    [\n",
    "        \"openInterest\",\n",
    "        \"changeinOpenInterest\",\n",
    "        \"totalTradedVolume\",\n",
    "        \"lastPrice\",\n",
    "        \"change\",\n",
    "        \"strikePrice\",\n",
    "    ]\n",
    "]\n",
    "df_pe = pd.DataFrame(pe)[\n",
    "    [\n",
    "        \"strikePrice\",\n",
    "        \"change\",\n",
    "        \"lastPrice\",\n",
    "        \"totalTradedVolume\",\n",
    "        \"changeinOpenInterest\",\n",
    "        \"openInterest\",\n",
    "    ]\n",
    "]\n",
    "df_ce_pe = (\n",
    "    pd.merge(df_ce, df_pe, how=\"outer\", on=\"strikePrice\").fillna(0.0).round(2)\n",
    ")\n",
    "df_ce_pe.columns = columns\n",
    "# sends each row axis = 1\n",
    "df_ce_pe[\"Call OI Action\"] = df_ce_pe.apply(oi_action_ce, axis=1)\n",
    "df_ce_pe[\"Put OI Action\"] = df_ce_pe.apply(oi_action_pe, axis=1)\n",
    "df_ce_pe[\"Call Trend\"] = np.where(\n",
    "    df_ce_pe[\"Call OI Action\"].isin(buillish),\n",
    "    \"Bullish\",\n",
    "    np.where(df_ce_pe[\"Call OI Action\"].isin(bearish), \"Bearish\", None),\n",
    ")\n",
    "df_ce_pe[\"Put Trend\"] = np.where(\n",
    "    df_ce_pe[\"Put OI Action\"].isin(buillish),\n",
    "    \"Bullish\",\n",
    "    np.where(df_ce_pe[\"Put OI Action\"].isin(bearish), \"Bearish\", None),\n",
    ")\n",
    "columns.insert(0, \"Call Trend\")\n",
    "columns.insert(1, \"Call OI Action\")\n",
    "columns.insert(len(df_ce_pe.columns) - 1, \"Put OI Action\")\n",
    "columns.insert(len(df_ce_pe.columns), \"Put Trend\")\n",
    "df_ce_pe = df_ce_pe[columns]\n",
    "# print(df_ce_pe)\n",
    "pprint.pp(df_ce_pe)"
   ]
  }
 ],
 "metadata": {
  "kernelspec": {
   "display_name": "Python 3",
   "language": "python",
   "name": "python3"
  },
  "language_info": {
   "codemirror_mode": {
    "name": "ipython",
    "version": 3
   },
   "file_extension": ".py",
   "mimetype": "text/x-python",
   "name": "python",
   "nbconvert_exporter": "python",
   "pygments_lexer": "ipython3",
   "version": "3.12.4"
  }
 },
 "nbformat": 4,
 "nbformat_minor": 5
}
