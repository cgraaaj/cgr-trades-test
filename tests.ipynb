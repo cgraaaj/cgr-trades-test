{
 "cells": [
  {
   "cell_type": "code",
   "execution_count": 3,
   "id": "f1f97b14-7ac6-4a90-a116-bf9383bf7f74",
   "metadata": {},
   "outputs": [],
   "source": [
    "import requests\n",
    "import re"
   ]
  },
  {
   "cell_type": "code",
   "execution_count": 11,
   "id": "f1b61b59",
   "metadata": {},
   "outputs": [
    {
     "name": "stdout",
     "output_type": "stream",
     "text": [
      "2024-07-01 LTF 25JUL24 232.5 CE\n"
     ]
    }
   ],
   "source": [
    "pattern = r'^(\\d{4}-\\d{2}-\\d{2})?-?([A-Z-&]+)(\\d{2}[A-Z]{3}\\d{2})(\\d+(\\.\\d+)?)([A-Z]+)$'\n",
    "match = re.match(pattern, '2024-07-01-LTF25JUL24232.5CE')\n",
    "if match:\n",
    "\ttrade_date = match.group(1)\n",
    "\tstock_name = match.group(2)\n",
    "\texpiry_date = match.group(3)\n",
    "\tstrike_price = match.group(4)\n",
    "\toption_type = match.group(6)\n",
    "\tprint(trade_date, stock_name, expiry_date, strike_price, option_type)"
   ]
  },
  {
   "cell_type": "code",
   "execution_count": null,
   "id": "de803648",
   "metadata": {},
   "outputs": [],
   "source": []
  },
  {
   "cell_type": "code",
   "execution_count": 6,
   "id": "7f7014ec-fda6-4c8c-808f-3f3bd47d2fb7",
   "metadata": {},
   "outputs": [
    {
     "name": "stdout",
     "output_type": "stream",
     "text": [
      "{'status': 'success', 'data': {'candles': []}}\n"
     ]
    }
   ],
   "source": [
    "symbolToken = 141948\n",
    "interval = '1minute'\n",
    "toDate = '2024-07-01'\n",
    "fromDate = '2024-07-01'\n",
    "uplinkURL = f'https://api.upstox.com/v2/historical-candle/NSE_FO|{symbolToken}/{interval}/{toDate}/{fromDate}'\n",
    "payload={}\n",
    "headers = {\n",
    "  'Accept': 'application/json'\n",
    "}\n",
    "response = requests.request(\"GET\", uplinkURL, headers=headers, data=payload)\n",
    "print(response.json())"
   ]
  }
 ],
 "metadata": {
  "kernelspec": {
   "display_name": "cgr-trades-venv",
   "language": "python",
   "name": "python3"
  },
  "language_info": {
   "codemirror_mode": {
    "name": "ipython",
    "version": 3
   },
   "file_extension": ".py",
   "mimetype": "text/x-python",
   "name": "python",
   "nbconvert_exporter": "python",
   "pygments_lexer": "ipython3",
   "version": "3.12.4"
  }
 },
 "nbformat": 4,
 "nbformat_minor": 5
}
