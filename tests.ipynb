{
 "cells": [
  {
   "cell_type": "code",
   "execution_count": 4,
   "id": "f1f97b14-7ac6-4a90-a116-bf9383bf7f74",
   "metadata": {},
   "outputs": [],
   "source": [
    "import requests\n"
   ]
  },
  {
   "cell_type": "code",
   "execution_count": 6,
   "id": "7f7014ec-fda6-4c8c-808f-3f3bd47d2fb7",
   "metadata": {},
   "outputs": [
    {
     "name": "stdout",
     "output_type": "stream",
     "text": [
      "{'status': 'success', 'data': {'candles': []}}\n"
     ]
    }
   ],
   "source": [
    "symbolToken = 141948\n",
    "interval = '1minute'\n",
    "toDate = '2024-07-01'\n",
    "fromDate = '2024-07-01'\n",
    "uplinkURL = f'https://api.upstox.com/v2/historical-candle/NSE_FO|{symbolToken}/{interval}/{toDate}/{fromDate}'\n",
    "payload={}\n",
    "headers = {\n",
    "  'Accept': 'application/json'\n",
    "}\n",
    "response = requests.request(\"GET\", uplinkURL, headers=headers, data=payload)\n",
    "print(response.json())"
   ]
  }
 ],
 "metadata": {
  "kernelspec": {
   "display_name": "cgr-trades-venv",
   "language": "python",
   "name": "cgr-trades-venv"
  },
  "language_info": {
   "codemirror_mode": {
    "name": "ipython",
    "version": 3
   },
   "file_extension": ".py",
   "mimetype": "text/x-python",
   "name": "python",
   "nbconvert_exporter": "python",
   "pygments_lexer": "ipython3",
   "version": "3.12.4"
  }
 },
 "nbformat": 4,
 "nbformat_minor": 5
}
