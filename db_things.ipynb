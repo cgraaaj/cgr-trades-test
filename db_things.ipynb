{
 "cells": [
  {
   "cell_type": "code",
   "execution_count": 10,
   "id": "f1f97b14-7ac6-4a90-a116-bf9383bf7f74",
   "metadata": {},
   "outputs": [],
   "source": [
    "from sqlalchemy import create_engine,text\n",
    "import sqlalchemy\n",
    "from urllib.parse import quote\n",
    "import pandas as pd"
   ]
  },
  {
   "cell_type": "code",
   "execution_count": 5,
   "id": "50a345d6",
   "metadata": {},
   "outputs": [],
   "source": [
    "stock_names = sorted([\n",
    "    \"AARTIIND\", \"ABB\", \"ABBOTINDIA\", \"ABCAPITAL\", \"ABFRL\", \"ACC\", \"ADANIENT\", \"ADANIPORTS\", \n",
    "    \"ALKEM\", \"AMBUJACEM\", \"APOLLOHOSP\", \"APOLLOTYRE\", \"ASHOKLEY\", \"ASIANPAINT\", \"ASTRAL\", \n",
    "    \"ATUL\", \"AUBANK\", \"AUROPHARMA\", \"AXISBANK\", \"BAJAJ-AUTO\", \"BAJAJFINSV\", \"BAJFINANCE\", \n",
    "    \"BALKRISIND\", \"BALRAMCHIN\", \"BANDHANBNK\", \"BANKBARODA\", \"BATAINDIA\", \"BEL\", \"BERGEPAINT\", \n",
    "    \"BHARATFORG\", \"BHARTIARTL\", \"BHEL\", \"BIOCON\", \"BOSCHLTD\", \"BPCL\", \"BRITANNIA\", \"BSOFT\", \n",
    "    \"CANBK\", \"CANFINHOME\", \"CHAMBLFERT\", \"CHOLAFIN\", \"CIPLA\", \"COALINDIA\", \"COFORGE\", \"COLPAL\", \n",
    "    \"CONCOR\", \"COROMANDEL\", \"CROMPTON\", \"CUB\", \"CUMMINSIND\", \"DABUR\", \"DALBHARAT\", \"DEEPAKNTR\", \n",
    "    \"DIVISLAB\", \"DIXON\", \"DLF\", \"DRREDDY\", \"EICHERMOT\", \"ESCORTS\", \"EXIDEIND\", \"FEDERALBNK\", \n",
    "    \"GAIL\", \"GLENMARK\", \"GMRINFRA\", \"GNFC\", \"GODREJCP\", \"GODREJPROP\", \"GRANULES\", \"GRASIM\", \n",
    "    \"GUJGASLTD\", \"HAL\", \"HAVELLS\", \"HCLTECH\", \"HDFCAMC\", \"HDFCBANK\", \"HDFCLIFE\", \"HEROMOTOCO\", \n",
    "    \"HINDALCO\", \"HINDCOPPER\", \"HINDPETRO\", \"HINDUNILVR\", \"ICICIBANK\", \"ICICIGI\", \"ICICIPRULI\", \n",
    "    \"IDEA\", \"IDFC\", \"IDFCFIRSTB\", \"IEX\", \"IGL\", \"INDHOTEL\", \"INDIACEM\", \"INDIAMART\", \"INDIGO\", \n",
    "    \"INDUSINDBK\", \"INDUSTOWER\", \"INFY\", \"IOC\", \"IPCALAB\", \"IRCTC\", \"ITC\", \"JINDALSTEL\", \n",
    "    \"JKCEMENT\", \"JSWSTEEL\", \"JUBLFOOD\", \"KOTAKBANK\", \"LALPATHLAB\", \"LAURUSLABS\", \"LICHSGFIN\", \n",
    "    \"LT\", \"LTF\", \"LTIM\", \"LTTS\", \"LUPIN\", \"M&M\", \"M&MFIN\", \"MANAPPURAM\", \"MARICO\", \"MARUTI\", \n",
    "    \"MCX\", \"METROPOLIS\", \"MFSL\", \"MGL\", \"MOTHERSON\", \"MPHASIS\", \"MRF\", \n",
    "    \"MUTHOOTFIN\", \"NATIONALUM\", \"NAUKRI\", \"NAVINFLUOR\", \"NESTLEIND\", \"NMDC\", \"NTPC\", \n",
    "    \"OBEROIRLTY\", \"OFSS\", \"ONGC\", \"PAGEIND\", \"PEL\", \"PERSISTENT\", \"PETRONET\", \"PFC\", \n",
    "    \"PIDILITIND\", \"PIIND\", \"PNB\", \"POLYCAB\", \"POWERGRID\", \"PVRINOX\", \"RAMCOCEM\", \"RBLBANK\", \n",
    "    \"RECLTD\", \"RELIANCE\", \"SAIL\", \"SBICARD\", \"SBILIFE\", \"SBIN\", \"SHREECEM\", \"SHRIRAMFIN\", \n",
    "    \"SIEMENS\", \"SRF\", \"SUNPHARMA\", \"SUNTV\", \"SYNGENE\", \"TATACHEM\", \"TATACOMM\", \"TATACONSUM\", \n",
    "    \"TATAMOTORS\", \"TATAPOWER\", \"TATASTEEL\", \"TCS\", \"TECHM\", \"TITAN\", \"TORNTPHARM\", \"TRENT\", \n",
    "    \"TVSMOTOR\", \"UBL\", \"ULTRACEMCO\", \"UNITDSPR\", \"UPL\", \"VEDL\", \"VOLTAS\", \"WIPRO\", \n",
    "    \"ZYDUSLIFE\"], key=len, reverse=True)\n",
    "\n",
    "expiry_dates = ['2024-07-25']\n",
    "\n",
    "engine = create_engine(\n",
    "        \"postgresql+psycopg2://sd_admin:%s@192.168.1.72:5430/stock-dumps\"\n",
    "        % quote(\"sdadmin@postgres\")\n",
    "    )"
   ]
  },
  {
   "cell_type": "code",
   "execution_count": 6,
   "id": "27092bd1",
   "metadata": {},
   "outputs": [
    {
     "name": "stdout",
     "output_type": "stream",
     "text": [
      "           name  nifty_fifty_index\n",
      "0    ABBOTINDIA                  0\n",
      "1    ADANIPORTS                  0\n",
      "2    APOLLOHOSP                  0\n",
      "3    APOLLOTYRE                  0\n",
      "4    ASIANPAINT                  0\n",
      "..          ...                ...\n",
      "176         SRF                  0\n",
      "177         TCS                  0\n",
      "178         UBL                  0\n",
      "179         UPL                  0\n",
      "180          LT                  0\n",
      "\n",
      "[181 rows x 2 columns]\n"
     ]
    }
   ],
   "source": [
    "# create stocks df\n",
    "# name nifty_fifty_index\n",
    "df = pd.DataFrame(\n",
    "        {'name':stock_names, 'nifty_fifty_index':0}\n",
    "    )\n",
    "print(df)"
   ]
  },
  {
   "cell_type": "code",
   "execution_count": 8,
   "id": "caffa6bb",
   "metadata": {},
   "outputs": [
    {
     "data": {
      "text/plain": [
       "181"
      ]
     },
     "execution_count": 8,
     "metadata": {},
     "output_type": "execute_result"
    }
   ],
   "source": [
    "# insert into stock table\n",
    "df.to_sql(\"stock\", schema=\"options\", if_exists=\"append\", con=engine, index=False)"
   ]
  },
  {
   "cell_type": "code",
   "execution_count": 11,
   "id": "c0e5033c",
   "metadata": {},
   "outputs": [],
   "source": [
    "# create expiry df\n",
    "# date\n",
    "expiry_df = pd.DataFrame({'date':expiry_dates})"
   ]
  },
  {
   "cell_type": "code",
   "execution_count": 12,
   "id": "ada75f61",
   "metadata": {},
   "outputs": [
    {
     "data": {
      "text/plain": [
       "1"
      ]
     },
     "execution_count": 12,
     "metadata": {},
     "output_type": "execute_result"
    }
   ],
   "source": [
    "expiry_df.to_sql('expiry', schema=\"options\", if_exists=\"append\", con=engine, index=False)"
   ]
  },
  {
   "cell_type": "code",
   "execution_count": 12,
   "id": "5e7860a0",
   "metadata": {},
   "outputs": [
    {
     "name": "stdout",
     "output_type": "stream",
     "text": [
      "     stock_id        name  nifty_fifty_index\n",
      "0           1  ABBOTINDIA                  0\n",
      "1           2  ADANIPORTS                  0\n",
      "2           3  APOLLOHOSP                  0\n",
      "3           4  APOLLOTYRE                  0\n",
      "4           5  ASIANPAINT                  0\n",
      "..        ...         ...                ...\n",
      "176       177         SRF                  0\n",
      "177       178         TCS                  0\n",
      "178       179         UBL                  0\n",
      "179       180         UPL                  0\n",
      "180       181          LT                  0\n",
      "\n",
      "[181 rows x 3 columns]\n"
     ]
    }
   ],
   "source": [
    "# read expiry, stock to a df\n",
    "with engine.connect() as connection:\n",
    "    result = connection.execute(text(\"SELECT * FROM options.stock\"))\n",
    "    rows = result.fetchall()\n",
    "    columns = result.keys()\n",
    "df = pd.DataFrame(rows, columns=columns)\n",
    "print(df)\n",
    "\n",
    "# create ticker df \n",
    "# symbol_token stock_id expiry_id trade_date strike_price option_type\n",
    "\n",
    "# ticker_df = "
   ]
  }
 ],
 "metadata": {
  "kernelspec": {
   "display_name": "cgr-trades-venv",
   "language": "python",
   "name": "python3"
  },
  "language_info": {
   "codemirror_mode": {
    "name": "ipython",
    "version": 3
   },
   "file_extension": ".py",
   "mimetype": "text/x-python",
   "name": "python",
   "nbconvert_exporter": "python",
   "pygments_lexer": "ipython3",
   "version": "3.12.undefined"
  }
 },
 "nbformat": 4,
 "nbformat_minor": 5
}
